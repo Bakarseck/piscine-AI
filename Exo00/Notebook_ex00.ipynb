{
 "cells": [
  {
   "cell_type": "code",
   "execution_count": 1,
   "id": "e40fbff9",
   "metadata": {},
   "outputs": [],
   "source": [
    "#H1 TITLE\n",
    "#H2 TITLE"
   ]
  },
  {
   "cell_type": "code",
   "execution_count": 2,
   "id": "35e7867f",
   "metadata": {},
   "outputs": [
    {
     "name": "stdout",
     "output_type": "stream",
     "text": [
      "Buy the dip ?\n"
     ]
    }
   ],
   "source": [
    "print(\"Buy the dip ?\")"
   ]
  },
  {
   "cell_type": "code",
   "execution_count": 3,
   "id": "061d6126",
   "metadata": {},
   "outputs": [],
   "source": [
    "import numpy as np\n"
   ]
  },
  {
   "cell_type": "code",
   "execution_count": 62,
   "id": "4711255a",
   "metadata": {},
   "outputs": [],
   "source": [
    "#Create a NumPy array that contains: an integer, a float, a string, a dictionary,\n",
    "#a list, a tuple, a set and a boolean. Add the following code at the end of your \n",
    "#python file or in a cell of the jupyter notebook\n",
    "\n",
    "tableau = np.array([ 12, 'Bakar', 2.0, {1: \"Bakar\", 2:\"Salla\"}])\n",
    "tableau = np.append(tableau, [1, 2, 3.0])\n",
    "tableau = np.append(tableau, (\"apples\", \"cherry\"))\n",
    "tableau = np.append(tableau, {\"apples\", \"bakar\"})"
   ]
  },
  {
   "cell_type": "code",
   "execution_count": 63,
   "id": "1a47dac7",
   "metadata": {},
   "outputs": [
    {
     "name": "stdout",
     "output_type": "stream",
     "text": [
      "<class 'int'>\n",
      "<class 'str'>\n",
      "<class 'float'>\n",
      "<class 'dict'>\n",
      "<class 'float'>\n",
      "<class 'float'>\n",
      "<class 'float'>\n",
      "<class 'str'>\n",
      "<class 'str'>\n",
      "<class 'set'>\n"
     ]
    }
   ],
   "source": [
    "for i in tableau:\n",
    "    print(type(i))"
   ]
  },
  {
   "cell_type": "code",
   "execution_count": null,
   "id": "712cc208",
   "metadata": {},
   "outputs": [],
   "source": []
  }
 ],
 "metadata": {
  "kernelspec": {
   "display_name": "Python 3 (ipykernel)",
   "language": "python",
   "name": "python3"
  },
  "language_info": {
   "codemirror_mode": {
    "name": "ipython",
    "version": 3
   },
   "file_extension": ".py",
   "mimetype": "text/x-python",
   "name": "python",
   "nbconvert_exporter": "python",
   "pygments_lexer": "ipython3",
   "version": "3.11.1"
  }
 },
 "nbformat": 4,
 "nbformat_minor": 5
}
