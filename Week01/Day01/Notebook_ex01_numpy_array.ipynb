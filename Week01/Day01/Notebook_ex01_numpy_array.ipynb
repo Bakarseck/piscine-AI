{
 "cells": [
  {
   "cell_type": "code",
   "execution_count": 2,
   "id": "0770edd2",
   "metadata": {},
   "outputs": [],
   "source": [
    "an_integer = 2\n",
    "a_string = \"bakar\"\n",
    "a_float = 2.5\n",
    "a_dictionnary = {1: \"Bakar\",2: \"SECK\" }\n",
    "a_list = [1, 2, 3, 4]\n",
    "a_tuple = (1, 2, 3, 4) # ordered and unchangeable\n",
    "a_set = {\"apple\", \"banana\", \"cherry\"} # Unchangeable, unindexed and unordered\n",
    "a_boolean = True"
   ]
  },
  {
   "cell_type": "code",
   "execution_count": null,
   "id": "8ee77331",
   "metadata": {
    "scrolled": true
   },
   "outputs": [],
   "source": [
    "import numpy as np\n",
    "my_array = np.array([an_integer, a_string, a_float, a_dictionnary, a_list, a_tuple, a_set, a_boolean])"
   ]
  },
  {
   "cell_type": "code",
   "execution_count": 11,
   "id": "2eefaf48",
   "metadata": {},
   "outputs": [
    {
     "name": "stdout",
     "output_type": "stream",
     "text": [
      "<class 'int'>\n",
      "<class 'str'>\n",
      "<class 'float'>\n",
      "<class 'dict'>\n",
      "<class 'list'>\n",
      "<class 'tuple'>\n",
      "<class 'set'>\n",
      "<class 'bool'>\n"
     ]
    }
   ],
   "source": [
    "for i in my_array:\n",
    "    print(type(i))"
   ]
  }
 ],
 "metadata": {
  "kernelspec": {
   "display_name": "Python 3",
   "language": "python",
   "name": "python3"
  },
  "language_info": {
   "codemirror_mode": {
    "name": "ipython",
    "version": 3
   },
   "file_extension": ".py",
   "mimetype": "text/x-python",
   "name": "python",
   "nbconvert_exporter": "python",
   "pygments_lexer": "ipython3",
   "version": "3.11.1 (tags/v3.11.1:a7a450f, Dec  6 2022, 19:58:39) [MSC v.1934 64 bit (AMD64)]"
  },
  "vscode": {
   "interpreter": {
    "hash": "bda418782055e3309093e7e4a7247ebd6eeec46806dff27684291b9372624fa9"
   }
  }
 },
 "nbformat": 4,
 "nbformat_minor": 5
}
