{
 "cells": [
  {
   "cell_type": "code",
   "execution_count": 2,
   "id": "8bd41f92",
   "metadata": {},
   "outputs": [],
   "source": [
    "#Create a NumPy array of dimension 300 with zeros without filling it manually\n",
    "import numpy as np\n",
    "\n",
    "tabZeroize = np.zeros(300)\n",
    "#reshape it to (3, 100)\n",
    "tabZeroizeShape = np.reshape(tabZeroize, (3, 100)) #We can also use np.zeros((3, 100))"
   ]
  }
 ],
 "metadata": {
  "kernelspec": {
   "display_name": "Python 3 (ipykernel)",
   "language": "python",
   "name": "python3"
  },
  "language_info": {
   "codemirror_mode": {
    "name": "ipython",
    "version": 3
   },
   "file_extension": ".py",
   "mimetype": "text/x-python",
   "name": "python",
   "nbconvert_exporter": "python",
   "pygments_lexer": "ipython3",
   "version": "3.11.1"
  }
 },
 "nbformat": 4,
 "nbformat_minor": 5
}
