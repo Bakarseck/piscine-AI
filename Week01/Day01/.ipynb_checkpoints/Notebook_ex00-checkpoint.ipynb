{
 "cells": [
  {
   "cell_type": "code",
   "execution_count": 1,
   "id": "98f0b96b",
   "metadata": {},
   "outputs": [],
   "source": [
    "#H1 TITLE\n",
    "#H2 TITLE"
   ]
  },
  {
   "cell_type": "code",
   "execution_count": 2,
   "id": "071880ae",
   "metadata": {},
   "outputs": [
    {
     "name": "stdout",
     "output_type": "stream",
     "text": [
      "Buy the dip ?\n"
     ]
    }
   ],
   "source": [
    "print(\"Buy the dip ?\")"
   ]
  },
  {
   "cell_type": "code",
   "execution_count": 3,
   "id": "6c8b8744",
   "metadata": {},
   "outputs": [],
   "source": [
    "import numpy as np"
   ]
  },
  {
   "cell_type": "code",
   "execution_count": 66,
   "id": "16c123e9",
   "metadata": {},
   "outputs": [],
   "source": [
    "#Create a NumPy array that contains: an integer, a float, a string, a dictionary,\n",
    "#a list, a tuple, a set and a boolean. Add the following code at the end of your \n",
    "#python file or in a cell of the jupyter notebook\n",
    "\n",
    "tableau = np.array([ 12, 'Bakar', 2.0, {1: \"Bakar\", 2:\"Salla\"}])\n",
    "tableau = np.append(tableau, ([1, 2, 3.0]))\n",
    "tableau = np.append(tableau, (\"apples\", \"cherry\"))\n",
    "tableau = np.append(tableau, {\"apples\", \"bakar\"})"
   ]
  },
  {
   "cell_type": "code",
   "execution_count": 64,
   "id": "f7407fe7",
   "metadata": {},
   "outputs": [
    {
     "data": {
      "text/plain": [
       "numpy.ndarray"
      ]
     },
     "execution_count": 64,
     "metadata": {},
     "output_type": "execute_result"
    }
   ],
   "source": [
    "type(tableau)"
   ]
  },
  {
   "cell_type": "code",
   "execution_count": 76,
   "id": "5ac43209",
   "metadata": {},
   "outputs": [],
   "source": [
    "#Create a NumPy array of dimension 300 with zeros without filling it manually\n",
    "tableau1 = np.zeros(300)"
   ]
  },
  {
   "cell_type": "code",
   "execution_count": 83,
   "id": "ea433eb9",
   "metadata": {},
   "outputs": [],
   "source": [
    "#reshape it to (3, 100)\n",
    "tableau2 = np.reshape(tableau1, (3, 100)) #We can also use np.zeros((3, 100))"
   ]
  },
  {
   "cell_type": "code",
   "execution_count": 145,
   "id": "e52f05aa",
   "metadata": {},
   "outputs": [],
   "source": [
    "#Create a NumPy array of dimension 1 that contains all integers from 1 to 100 ordered\n",
    "\n",
    "tableau3 = np.array([1])\n",
    "for i in range(2, 101):\n",
    "        tableau3 = np.append(tableau3, i)\n",
    "        \n",
    "#Without using a for loop and using the array created in Q1, create an array that contain all odd integers.\n",
    "#The expected output is: np.array([1,3,...,99]). Hint: it takes one line\n",
    "\n",
    "tableau4 = np.array([1])\n",
    "for j in tableau3:\n",
    "    if j == 1:\n",
    "        continue\n",
    "    if j%2 != 0:\n",
    "        tableau4 = np.append(tableau4, j)\n",
    "        \n",
    "#Without using a for loop and using the array created in Q1, create an array that contain all even integers reversed.\n",
    "#The expected output is: np.array([100,98,...,2]). Hint: it takes one line\n",
    "\n",
    "tabEven = np.array([2])\n",
    "for k in tableau3:\n",
    "    if k == 2:\n",
    "        continue\n",
    "    if k%2 == 0:\n",
    "        tabEven = np.append(tabEven, k)\n",
    "#tabEven = tabEven[::-1] \n",
    "#tabEven = np.flip(tabEven)\n",
    "tabEven = np.flipud(tabEven)\n",
    "\n",
    "#Using array of Q1, set the value of every 3 elements of the list (starting with the second) to 0.\n",
    "#The expected output is: np.array([[1,0,3,4,0,...,0,99,100]])\n",
    "\n",
    "for l in range(0, 100):\n",
    "    if l%2==0:\n",
    "        tableau3[l] = 0"
   ]
  },
  {
   "cell_type": "code",
   "execution_count": null,
   "id": "6a013ae3",
   "metadata": {},
   "outputs": [],
   "source": []
  }
 ],
 "metadata": {
  "kernelspec": {
   "display_name": "Python 3 (ipykernel)",
   "language": "python",
   "name": "python3"
  },
  "language_info": {
   "codemirror_mode": {
    "name": "ipython",
    "version": 3
   },
   "file_extension": ".py",
   "mimetype": "text/x-python",
   "name": "python",
   "nbconvert_exporter": "python",
   "pygments_lexer": "ipython3",
   "version": "3.11.1"
  }
 },
 "nbformat": 4,
 "nbformat_minor": 5
}
