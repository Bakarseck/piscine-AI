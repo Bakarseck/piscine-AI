{
 "cells": [
  {
   "cell_type": "code",
   "execution_count": 31,
   "id": "9a1e524b",
   "metadata": {},
   "outputs": [],
   "source": [
    "import numpy as np\n",
    "\n",
    "\n",
    "# Create a NumPy array of dimension 1 that contains all integers from 1 to 100 ordered.\n",
    "np_integers = np.array([x for x in range(1, 101, 1)])\n",
    "\n",
    "# Without using a for loop and using the array created in Q1, create an array that contain all odd integers. The expected output is: np.array([1,3,...,99]). Hint: it takes one line\n",
    "np_integers_odd = np_integers[:-1:2]\n",
    "\n",
    "# Without using a for loop and using the array created in Q1, create an array that contain all even integers reversed. The expected output is: np.array([100,98,...,2]). Hint: it takes one line\n",
    "np_integers_reversed_even = np_integers[-1::-2]\n",
    "\n",
    "# Using array of Q1, set the value of every 3 elements of the list (starting with the second) to 0. The expected output is:\n"
   ]
  },
  {
   "cell_type": "code",
   "execution_count": 32,
   "id": "48dc604c",
   "metadata": {},
   "outputs": [
    {
     "name": "stdout",
     "output_type": "stream",
     "text": [
      "[2, 4, 6, 8, 10, 12, 14, 16, 18, 20, 22, 24, 26, 28, 30, 32, 34, 36, 38, 40, 42, 44, 46, 48, 50, 52, 54, 56, 58, 60, 62, 64, 66, 68, 70, 72, 74, 76, 78, 80, 82, 84, 86, 88, 90, 92, 94, 96, 98]\n"
     ]
    }
   ],
   "source": [
    "print(np_integers_set_0)"
   ]
  },
  {
   "cell_type": "code",
   "execution_count": null,
   "id": "ad2d1bf3",
   "metadata": {},
   "outputs": [],
   "source": []
  }
 ],
 "metadata": {
  "kernelspec": {
   "display_name": "Python 3 (ipykernel)",
   "language": "python",
   "name": "python3"
  },
  "language_info": {
   "codemirror_mode": {
    "name": "ipython",
    "version": 3
   },
   "file_extension": ".py",
   "mimetype": "text/x-python",
   "name": "python",
   "nbconvert_exporter": "python",
   "pygments_lexer": "ipython3",
   "version": "3.9.13"
  }
 },
 "nbformat": 4,
 "nbformat_minor": 5
}
