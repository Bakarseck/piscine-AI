{
 "cells": [
  {
   "cell_type": "code",
   "execution_count": 9,
   "id": "14c90e74",
   "metadata": {},
   "outputs": [],
   "source": [
    "# Create a numpy array of dimensions 300 with zeros without filling it manually\n",
    "import numpy as np\n",
    "\n",
    "my_array_zeros = np.zeros(300)\n",
    "\n",
    "# Reshape it to (3, 100)\n",
    "my_array_zeros_reshape = my_array_zeros.reshape(3, 100)"
   ]
  }
 ],
 "metadata": {
  "kernelspec": {
   "display_name": "Python 3 (ipykernel)",
   "language": "python",
   "name": "python3"
  },
  "language_info": {
   "codemirror_mode": {
    "name": "ipython",
    "version": 3
   },
   "file_extension": ".py",
   "mimetype": "text/x-python",
   "name": "python",
   "nbconvert_exporter": "python",
   "pygments_lexer": "ipython3",
   "version": "3.9.13"
  }
 },
 "nbformat": 4,
 "nbformat_minor": 5
}
